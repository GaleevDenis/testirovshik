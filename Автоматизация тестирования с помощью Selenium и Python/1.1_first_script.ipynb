{
 "cells": [
  {
   "cell_type": "code",
   "execution_count": 29,
   "metadata": {},
   "outputs": [
    {
     "name": "stdout",
     "output_type": "stream",
     "text": [
      "Message: no such element: Unable to locate element: {\"method\":\"css selector\",\"selector\":\"textarea\"}\n",
      "  (Session info: chrome=119.0.6045.124); For documentation on this error, please visit: https://www.selenium.dev/documentation/webdriver/troubleshooting/errors#no-such-element-exception\n",
      "Stacktrace:\n",
      "\tGetHandleVerifier [0x00007FF603C882B2+55298]\n",
      "\t(No symbol) [0x00007FF603BF5E02]\n",
      "\t(No symbol) [0x00007FF603AB05AB]\n",
      "\t(No symbol) [0x00007FF603AF175C]\n",
      "\t(No symbol) [0x00007FF603AF18DC]\n",
      "\t(No symbol) [0x00007FF603B2CBC7]\n",
      "\t(No symbol) [0x00007FF603B120EF]\n",
      "\t(No symbol) [0x00007FF603B2AAA4]\n",
      "\t(No symbol) [0x00007FF603B11E83]\n",
      "\t(No symbol) [0x00007FF603AE670A]\n",
      "\t(No symbol) [0x00007FF603AE7964]\n",
      "\tGetHandleVerifier [0x00007FF604000AAB+3694587]\n",
      "\tGetHandleVerifier [0x00007FF60405728E+4048862]\n",
      "\tGetHandleVerifier [0x00007FF60404F173+4015811]\n",
      "\tGetHandleVerifier [0x00007FF603D247D6+695590]\n",
      "\t(No symbol) [0x00007FF603C00CE8]\n",
      "\t(No symbol) [0x00007FF603BFCF34]\n",
      "\t(No symbol) [0x00007FF603BFD062]\n",
      "\t(No symbol) [0x00007FF603BED3A3]\n",
      "\tBaseThreadInitThunk [0x00007FFAAF5A7344+20]\n",
      "\tRtlUserThreadStart [0x00007FFAAFD026B1+33]\n",
      "\n"
     ]
    }
   ],
   "source": [
    "import time\n",
    "\n",
    "# webdriver это и есть набор команд для управления браузером\n",
    "from selenium import webdriver\n",
    "\n",
    "# импортируем класс By, который позволяет выбрать способ поиска элемента\n",
    "from selenium.webdriver.common.by import By\n",
    "\n",
    "# инициализируем драйвер браузера. После этой команды вы должны увидеть новое открытое окно браузера\n",
    "driver = webdriver.Chrome()\n",
    "\n",
    "# команда time.sleep устанавливает паузу в 5 секунд, чтобы мы успели увидеть, что происходит в браузере\n",
    "time.sleep(5)\n",
    "\n",
    "# Метод get сообщает браузеру, что нужно открыть сайт по указанной ссылке\n",
    "driver.get(\"https://suninjuly.github.io/text_input_task.html\")\n",
    "time.sleep(5)\n",
    "\n",
    "# Метод find_element позволяет найти нужный элемент на сайте, указав путь к нему. Способы поиска элементов мы обсудим позже\n",
    "# Метод принимает в качестве аргументов способ поиска и значение, по которому мы будем искать\n",
    "# Ищем поле для ввода текста\n",
    "try:\n",
    "    textarea = driver.find_element(By.CSS_SELECTOR, \"textarea\")\n",
    "    assert textarea == Exception(\"NoSuchElementException\")\n",
    "except Exception as ex:\n",
    "    print(ex)\n",
    "else:\n",
    "    # Напишем текст ответа в найденное поле\n",
    "    textarea.send_keys(\"get()\")\n",
    "    time.sleep(5)\n",
    "\n",
    "# Найдем кнопку, которая отправляет введенное решение\n",
    "    submit_button = driver.find_element(By.CSS_SELECTOR, \".submit-submission\")\n",
    "\n",
    "# Скажем драйверу, что нужно нажать на кнопку. После этой команды мы должны увидеть сообщение о правильном ответе\n",
    "    submit_button.click()\n",
    "    time.sleep(5)\n",
    "\n",
    "# После выполнения всех действий мы должны не забыть закрыть окно браузера\n",
    "    driver.quit()"
   ]
  },
  {
   "cell_type": "code",
   "execution_count": 40,
   "metadata": {},
   "outputs": [
    {
     "name": "stdout",
     "output_type": "stream",
     "text": [
      "da\n",
      "asdasd\n"
     ]
    }
   ],
   "source": []
  },
  {
   "cell_type": "code",
   "execution_count": null,
   "metadata": {},
   "outputs": [],
   "source": []
  }
 ],
 "metadata": {
  "kernelspec": {
   "display_name": "base",
   "language": "python",
   "name": "python3"
  },
  "language_info": {
   "codemirror_mode": {
    "name": "ipython",
    "version": 3
   },
   "file_extension": ".py",
   "mimetype": "text/x-python",
   "name": "python",
   "nbconvert_exporter": "python",
   "pygments_lexer": "ipython3",
   "version": "3.9.13"
  }
 },
 "nbformat": 4,
 "nbformat_minor": 2
}
